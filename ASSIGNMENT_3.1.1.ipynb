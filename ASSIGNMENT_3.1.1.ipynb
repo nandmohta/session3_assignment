{
 "cells": [
  {
   "cell_type": "code",
   "execution_count": 1,
   "metadata": {},
   "outputs": [
    {
     "name": "stdout",
     "output_type": "stream",
     "text": [
      "Output from reduce Function: 8806025134080\n",
      "Output from my_reduce Function: 8806025134080\n"
     ]
    }
   ],
   "source": [
    "# Problem 1: Myreduce function similar to reduce function in python\n",
    "from functools import reduce\n",
    "import math\n",
    "\n",
    "def my_reduce(func,lst):\n",
    "    if(len(lst) < 2):\n",
    "        return 'Please provide list with more than one value'\n",
    "    else:\n",
    "        output=lst[0]\n",
    "        for i in range(1,len(lst)):\n",
    "            output=func(output,lst[i])\n",
    "    return output\n",
    "\n",
    "a=[1,2,3,4,4,5]\n",
    "\n",
    "print('Output from reduce Function: %d' %(reduce(lambda x,y:x**2*y,a)))\n",
    "print('Output from my_reduce Function: %d' %(my_reduce(lambda x,y:x**2*y,a)))"
   ]
  }
 ],
 "metadata": {
  "kernelspec": {
   "display_name": "Python 3",
   "language": "python",
   "name": "python3"
  },
  "language_info": {
   "codemirror_mode": {
    "name": "ipython",
    "version": 3
   },
   "file_extension": ".py",
   "mimetype": "text/x-python",
   "name": "python",
   "nbconvert_exporter": "python",
   "pygments_lexer": "ipython3",
   "version": "3.6.5"
  }
 },
 "nbformat": 4,
 "nbformat_minor": 2
}
