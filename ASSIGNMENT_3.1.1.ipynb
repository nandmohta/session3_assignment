{
 "cells": [
  {
   "cell_type": "code",
   "execution_count": 2,
   "metadata": {},
   "outputs": [
    {
     "name": "stdout",
     "output_type": "stream",
     "text": [
      "\n",
      "Output from reduce Function: 8806025134080\n",
      "\n",
      "Output from my_reduce Function: 8806025134080\n"
     ]
    }
   ],
   "source": [
    "# Problem 1: Myreduce function similar to reduce function in python\n",
    "from functools import reduce\n",
    "import math\n",
    "\n",
    "def my_reduce(func,lst):\n",
    "    '''\n",
    "     my_reduce function that reduced the list based on the function\n",
    "     INPUT: func - The Function\n",
    "            lst = List on which the func needs to be applied\n",
    "     OUTPUT: reduced list\n",
    "     '''\n",
    "     #Check if the list provided is having >2 values to apply the reduce function\n",
    "    if(len(lst) < 2):\n",
    "        return 'Please provide list with more than one value'\n",
    "    else:\n",
    "        output=lst[0]\n",
    "        for i in range(1,len(lst)):\n",
    "            output=func(output,lst[i])\n",
    "    return output\n",
    "\n",
    "a=[1,2,3,4,4,5]\n",
    "\n",
    "print('\\nOutput from reduce Function: %d' %(reduce(lambda x,y:x**2*y,a)))\n",
    "print('\\nOutput from my_reduce Function: %d' %(my_reduce(lambda x,y:x**2*y,a)))"
   ]
  },
  {
   "cell_type": "code",
   "execution_count": null,
   "metadata": {},
   "outputs": [],
   "source": []
  }
 ],
 "metadata": {
  "kernelspec": {
   "display_name": "Python 3",
   "language": "python",
   "name": "python3"
  },
  "language_info": {
   "codemirror_mode": {
    "name": "ipython",
    "version": 3
   },
   "file_extension": ".py",
   "mimetype": "text/x-python",
   "name": "python",
   "nbconvert_exporter": "python",
   "pygments_lexer": "ipython3",
   "version": "3.6.5"
  }
 },
 "nbformat": 4,
 "nbformat_minor": 2
}
