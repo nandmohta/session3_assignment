{
 "cells": [
  {
   "cell_type": "code",
   "execution_count": 2,
   "metadata": {},
   "outputs": [
    {
     "name": "stdout",
     "output_type": "stream",
     "text": [
      "Filtered list from my filter function: [1, 3, 5, 7, 9, 11, 13]\n",
      "\n",
      "Filtered list from filter function: [1, 3, 5, 7, 9, 11, 13]\n"
     ]
    }
   ],
   "source": [
    "# Problem 1.2: MyFilter function similar to filter function in python\n",
    "from functools import reduce\n",
    "\n",
    "def my_filter(func, lst):\n",
    "    '''\n",
    "    my_filter function that filters the list based on the function\n",
    "    INPUT: func - The Function\n",
    "            lst = List on which the func needs to be applied\n",
    "    OUTPUT: Filtered list\n",
    "    '''\n",
    "    output=[]\n",
    "    #Check if the list provided is having >2 values to apply the filter\n",
    "    if(len(lst) < 2):\n",
    "        return 'Please provide list with more than one value'\n",
    "    else:\n",
    "        for i in range(0,len(lst)):\n",
    "            if(func(lst[i])):\n",
    "               output.append(lst[i])               \n",
    "        return output\n",
    "\n",
    "lst=[0,1,2,3,4,5,6,7,8,9,10,11,12,13]\n",
    "\n",
    "print(\"Filtered list from my filter function: %s\" %(str(list(my_filter(lambda x: x%2!=0,lst)))))\n",
    "\n",
    "print(\"\\nFiltered list from filter function: %s\" %(str(list(filter(lambda x: x%2!=0,lst)))))\n"
   ]
  },
  {
   "cell_type": "code",
   "execution_count": null,
   "metadata": {},
   "outputs": [],
   "source": []
  }
 ],
 "metadata": {
  "kernelspec": {
   "display_name": "Python 3",
   "language": "python",
   "name": "python3"
  },
  "language_info": {
   "codemirror_mode": {
    "name": "ipython",
    "version": 3
   },
   "file_extension": ".py",
   "mimetype": "text/x-python",
   "name": "python",
   "nbconvert_exporter": "python",
   "pygments_lexer": "ipython3",
   "version": "3.6.5"
  }
 },
 "nbformat": 4,
 "nbformat_minor": 2
}
