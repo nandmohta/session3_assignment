{
 "cells": [
  {
   "cell_type": "code",
   "execution_count": 3,
   "metadata": {},
   "outputs": [
    {
     "name": "stdout",
     "output_type": "stream",
     "text": [
      "Longest word in the list is: Longestword\n"
     ]
    }
   ],
   "source": [
    "# Problem 3: function to find longestword that takes list and returns the longest word in the list\n",
    "\n",
    "from functools import reduce\n",
    "\n",
    "def longestWord(wordlist):\n",
    "    return reduce((lambda x,y:y if type(y) == str and type(x) == str and len(y) > len(x) else x), wordlist )\n",
    "\n",
    "wordList = ['hi',343,'hllleo','Longestword',23]\n",
    "\n",
    "print('Longest word in the list is: %s' %(longestWord(wordList)))"
   ]
  },
  {
   "cell_type": "code",
   "execution_count": null,
   "metadata": {},
   "outputs": [],
   "source": []
  }
 ],
 "metadata": {
  "kernelspec": {
   "display_name": "Python 3",
   "language": "python",
   "name": "python3"
  },
  "language_info": {
   "codemirror_mode": {
    "name": "ipython",
    "version": 3
   },
   "file_extension": ".py",
   "mimetype": "text/x-python",
   "name": "python",
   "nbconvert_exporter": "python",
   "pygments_lexer": "ipython3",
   "version": "3.6.5"
  }
 },
 "nbformat": 4,
 "nbformat_minor": 2
}
