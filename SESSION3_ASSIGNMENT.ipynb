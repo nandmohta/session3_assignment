{
 "cells": [
  {
   "cell_type": "code",
   "execution_count": 1,
   "metadata": {},
   "outputs": [
    {
     "name": "stdout",
     "output_type": "stream",
     "text": [
      "Output from reduce Function: 8806025134080\n",
      "Output from my_reduce Function: 8806025134080\n"
     ]
    }
   ],
   "source": [
    "# Problem 1: Myreduce function similar to reduce function in python\n",
    "from functools import reduce\n",
    "import math\n",
    "\n",
    "def my_reduce(func,lst):\n",
    "    if(len(lst) < 2):\n",
    "        return 'Please provide list with more than one value'\n",
    "    else:\n",
    "        output=lst[0]\n",
    "        for i in range(1,len(lst)):\n",
    "            output=func(output,lst[i])\n",
    "    return output\n",
    "\n",
    "a=[1,2,3,4,4,5]\n",
    "\n",
    "print('Output from reduce Function: %d' %(reduce(lambda x,y:x**2*y,a)))\n",
    "print('Output from my_reduce Function: %d' %(my_reduce(lambda x,y:x**2*y,a)))"
   ]
  },
  {
   "cell_type": "code",
   "execution_count": 2,
   "metadata": {},
   "outputs": [
    {
     "name": "stdout",
     "output_type": "stream",
     "text": [
      "Filtered list from filter function: [1, 3, 5, 7, 9, 11, 13]\n",
      "Filtered list from filter function: [1, 3, 5, 7, 9, 11, 13]\n"
     ]
    }
   ],
   "source": [
    "# Problem 1.2: MyFilter function similar to filter function in python\n",
    "\n",
    "def my_filter(func, lst):\n",
    "    output=[]\n",
    "    if(len(lst) < 2):\n",
    "        return 'Please provide list with more than one value'\n",
    "    else:\n",
    "        for i in range(0,len(lst)):\n",
    "            if(func(lst[i])):\n",
    "               output.append(lst[i])               \n",
    "        return output\n",
    "\n",
    "lst=[0,1,2,3,4,5,6,7,8,9,10,11,12,13]\n",
    "\n",
    "print(\"Filtered list from filter function: %s\" %(str(list(filter(lambda x: x%2!=0,lst)))))\n",
    "print(\"Filtered list from filter function: %s\" %(str(list(my_filter(lambda x: x%2!=0,lst)))))"
   ]
  },
  {
   "cell_type": "code",
   "execution_count": 3,
   "metadata": {},
   "outputs": [],
   "source": [
    "# Problem 2: Implement List comprehensions to produce the following lists.\n",
    "# Write List comprehensions to produce the following Lists"
   ]
  },
  {
   "cell_type": "code",
   "execution_count": 4,
   "metadata": {},
   "outputs": [
    {
     "data": {
      "text/plain": [
       "['A', 'C', 'A', 'D', 'G', 'I', 'L', 'D']"
      ]
     },
     "execution_count": 4,
     "metadata": {},
     "output_type": "execute_result"
    }
   ],
   "source": [
    "# Print ['A', 'C', 'A', 'D', 'G', 'I', ’L’, ‘ D’]\n",
    "\n",
    "str1 = 'ACADGILD'\n",
    "[i for i in str1]"
   ]
  },
  {
   "cell_type": "code",
   "execution_count": 5,
   "metadata": {},
   "outputs": [
    {
     "data": {
      "text/plain": [
       "['x', 'xx', 'xxx', 'xxxx', 'y', 'yy', 'yyy', 'yyyy', 'z', 'zz', 'zzz', 'zzzz']"
      ]
     },
     "execution_count": 5,
     "metadata": {},
     "output_type": "execute_result"
    }
   ],
   "source": [
    "# Print ['x', 'xx', 'xxx', 'xxxx', 'y', 'yy', 'yyy', 'yyyy', 'z', 'zz', 'zzz', 'zzzz']\n",
    "\n",
    "[i*n for i in ('x','y','z') for n in range(1,5)]"
   ]
  },
  {
   "cell_type": "code",
   "execution_count": 6,
   "metadata": {},
   "outputs": [
    {
     "data": {
      "text/plain": [
       "['x', 'y', 'z', 'xx', 'yy', 'zz', 'xxx', 'yyy', 'zzz', 'xxxx', 'yyyy', 'zzzz']"
      ]
     },
     "execution_count": 6,
     "metadata": {},
     "output_type": "execute_result"
    }
   ],
   "source": [
    "# Print ['x', 'y', 'z', 'xx', 'yy', 'zz', 'xxx', 'yyy', 'zzz', 'xxxx', 'yyyy', 'zzzz']\n",
    "\n",
    "[i*n for i in range(1,5) for n in ('x','y','z')]"
   ]
  },
  {
   "cell_type": "code",
   "execution_count": 7,
   "metadata": {},
   "outputs": [
    {
     "data": {
      "text/plain": [
       "[[2], [3], [4], [3], [4], [5], [4], [5], [6]]"
      ]
     },
     "execution_count": 7,
     "metadata": {},
     "output_type": "execute_result"
    }
   ],
   "source": [
    "# Print [[2], [3], [4], [3], [4], [5], [4], [5], [6]]\n",
    "\n",
    "[[i+n] for i in (2,3,4) for n in range(0,3) ]"
   ]
  },
  {
   "cell_type": "code",
   "execution_count": 8,
   "metadata": {},
   "outputs": [
    {
     "data": {
      "text/plain": [
       "[[2, 3, 4, 5], [3, 4, 5, 6], [4, 5, 6, 7]]"
      ]
     },
     "execution_count": 8,
     "metadata": {},
     "output_type": "execute_result"
    }
   ],
   "source": [
    "# Print [[2, 3, 4, 5], [3, 4, 5, 6], [4, 5, 6, 7]]\n",
    "\n",
    "[ [i+n for i in (2,3,4,5)] for n in range(0,3)]"
   ]
  },
  {
   "cell_type": "code",
   "execution_count": 9,
   "metadata": {},
   "outputs": [
    {
     "data": {
      "text/plain": [
       "[(1, 1), (2, 1), (3, 1), (1, 2), (2, 2), (3, 2), (1, 3), (2, 3), (3, 3)]"
      ]
     },
     "execution_count": 9,
     "metadata": {},
     "output_type": "execute_result"
    }
   ],
   "source": [
    "# Print [(1, 1), (2, 1), (3, 1), (1, 2), (2, 2), (3, 2), (1, 3), (2, 3), (3, 3)]\n",
    "\n",
    "[(b,a) for a in (1,2,3) for b in (1,2,3)]"
   ]
  },
  {
   "cell_type": "code",
   "execution_count": 10,
   "metadata": {},
   "outputs": [
    {
     "name": "stdout",
     "output_type": "stream",
     "text": [
      "Longest word in the list is: Longestword\n"
     ]
    }
   ],
   "source": [
    "# Problem 3: function longestword that takes list and returns the longest word in the list\n",
    "def longestWord(wordlist):\n",
    "    return reduce((lambda x,y:y if type(y) == str and type(x) == str and len(y) > len(x) else x), wordlist )\n",
    "\n",
    "wordList = ['hi',343,'hllleo','Longestword',23]\n",
    "\n",
    "print('Longest word in the list is: %s' %(longestWord(wordList)))"
   ]
  }
 ],
 "metadata": {
  "kernelspec": {
   "display_name": "Python 3",
   "language": "python",
   "name": "python3"
  },
  "language_info": {
   "codemirror_mode": {
    "name": "ipython",
    "version": 3
   },
   "file_extension": ".py",
   "mimetype": "text/x-python",
   "name": "python",
   "nbconvert_exporter": "python",
   "pygments_lexer": "ipython3",
   "version": "3.6.5"
  }
 },
 "nbformat": 4,
 "nbformat_minor": 2
}
